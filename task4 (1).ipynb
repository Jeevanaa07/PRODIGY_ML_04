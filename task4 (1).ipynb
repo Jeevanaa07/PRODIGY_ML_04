{
  "nbformat": 4,
  "nbformat_minor": 0,
  "metadata": {
    "colab": {
      "provenance": []
    },
    "kernelspec": {
      "name": "python3",
      "display_name": "Python 3"
    },
    "language_info": {
      "name": "python"
    }
  },
  "cells": [
    {
      "cell_type": "code",
      "execution_count": null,
      "metadata": {
        "id": "Fpug_YoCiFIO"
      },
      "outputs": [],
      "source": []
    },
    {
      "cell_type": "code",
      "source": [
        "from google.colab import drive\n",
        "drive.mount('/content/drive')"
      ],
      "metadata": {
        "colab": {
          "base_uri": "https://localhost:8080/"
        },
        "id": "DdAGBtB7iLqM",
        "outputId": "a1a488d8-121e-4d29-e1a3-6158b4c2c565"
      },
      "execution_count": null,
      "outputs": [
        {
          "output_type": "stream",
          "name": "stdout",
          "text": [
            "Drive already mounted at /content/drive; to attempt to forcibly remount, call drive.mount(\"/content/drive\", force_remount=True).\n"
          ]
        }
      ]
    },
    {
      "cell_type": "code",
      "source": [
        "import tensorflow as tf\n",
        "\n",
        "train, validation = tf.keras.utils.image_dataset_from_directory(\n",
        "    \"/content/drive/MyDrive/Hand gesture\",\n",
        "    labels=\"inferred\",\n",
        "    label_mode=\"int\",\n",
        "    validation_split=0.2,\n",
        "    image_size=(128,128),\n",
        "    seed=23,\n",
        "    color_mode=\"grayscale\",\n",
        "    subset=\"both\"\n",
        ")\n"
      ],
      "metadata": {
        "colab": {
          "base_uri": "https://localhost:8080/"
        },
        "id": "AwBlAjzyiYUh",
        "outputId": "9cfb9aea-c32e-4e74-b5c3-6e064b4f73b8"
      },
      "execution_count": null,
      "outputs": [
        {
          "output_type": "stream",
          "name": "stdout",
          "text": [
            "Found 1305 files belonging to 10 classes.\n",
            "Using 1044 files for training.\n",
            "Using 261 files for validation.\n"
          ]
        }
      ]
    },
    {
      "cell_type": "code",
      "source": [
        "import tensorflow as tf\n",
        "for image_batch, label_batch in train.take(1):\n",
        "    print(image_batch.shape)\n"
      ],
      "metadata": {
        "colab": {
          "base_uri": "https://localhost:8080/"
        },
        "id": "OoYjgeZAlj3S",
        "outputId": "2a125c4b-69de-4b9c-e40c-8f5effdfc6d4"
      },
      "execution_count": null,
      "outputs": [
        {
          "output_type": "stream",
          "name": "stdout",
          "text": [
            "(32, 128, 128, 1)\n"
          ]
        }
      ]
    },
    {
      "cell_type": "code",
      "source": [
        "import tensorflow as tf\n",
        "for image_batch, label_batch in validation.take(1):\n",
        "    print(image_batch.shape)"
      ],
      "metadata": {
        "colab": {
          "base_uri": "https://localhost:8080/"
        },
        "id": "L8mrM09unNcV",
        "outputId": "ed4f8bac-2b0b-486c-f3a9-934b41d9b326"
      },
      "execution_count": null,
      "outputs": [
        {
          "output_type": "stream",
          "name": "stdout",
          "text": [
            "(32, 128, 128, 1)\n"
          ]
        }
      ]
    },
    {
      "cell_type": "code",
      "source": [
        "normalization_layer = tf.keras.layers.Rescaling(1./255)\n",
        "train = train.map(lambda x, y: (normalization_layer(x), y))\n",
        "validation = validation.map(lambda x, y: (normalization_layer(x), y))"
      ],
      "metadata": {
        "id": "cfePwP8Iob9O"
      },
      "execution_count": null,
      "outputs": []
    },
    {
      "cell_type": "code",
      "source": [],
      "metadata": {
        "id": "VirO4Fx9sB1_"
      },
      "execution_count": null,
      "outputs": []
    },
    {
      "cell_type": "code",
      "source": [
        "model = tf.keras.Sequential([\n",
        "    tf.keras.layers.Conv2D(32, (3, 3), activation='relu', input_shape=(128, 128, 1)),\n",
        "    tf.keras.layers.MaxPooling2D((2, 2)),\n",
        "    tf.keras.layers.Conv2D(64, (3, 3), activation='relu'),\n",
        "    tf.keras.layers.MaxPooling2D((2, 2)),\n",
        "    tf.keras.layers.Conv2D(64, (3, 3), activation='relu'),\n",
        "    tf.keras.layers.Flatten(),\n",
        "    tf.keras.layers.Dense(64, activation='relu'),\n",
        "    tf.keras.layers.Dense(10)\n",
        "])\n"
      ],
      "metadata": {
        "id": "F7YP6penrZOE"
      },
      "execution_count": null,
      "outputs": []
    },
    {
      "cell_type": "code",
      "source": [
        "model.summary()"
      ],
      "metadata": {
        "colab": {
          "base_uri": "https://localhost:8080/"
        },
        "id": "ak9fy0w2yHcp",
        "outputId": "14ec9acd-0ada-4470-de0e-7eb5be6c7ef6"
      },
      "execution_count": null,
      "outputs": [
        {
          "output_type": "stream",
          "name": "stdout",
          "text": [
            "Model: \"sequential\"\n",
            "_________________________________________________________________\n",
            " Layer (type)                Output Shape              Param #   \n",
            "=================================================================\n",
            " conv2d (Conv2D)             (None, 126, 126, 32)      320       \n",
            "                                                                 \n",
            " max_pooling2d (MaxPooling2  (None, 63, 63, 32)        0         \n",
            " D)                                                              \n",
            "                                                                 \n",
            " conv2d_1 (Conv2D)           (None, 61, 61, 64)        18496     \n",
            "                                                                 \n",
            " max_pooling2d_1 (MaxPoolin  (None, 30, 30, 64)        0         \n",
            " g2D)                                                            \n",
            "                                                                 \n",
            " conv2d_2 (Conv2D)           (None, 28, 28, 64)        36928     \n",
            "                                                                 \n",
            " flatten (Flatten)           (None, 50176)             0         \n",
            "                                                                 \n",
            " dense (Dense)               (None, 64)                3211328   \n",
            "                                                                 \n",
            " dense_1 (Dense)             (None, 10)                650       \n",
            "                                                                 \n",
            "=================================================================\n",
            "Total params: 3267722 (12.47 MB)\n",
            "Trainable params: 3267722 (12.47 MB)\n",
            "Non-trainable params: 0 (0.00 Byte)\n",
            "_________________________________________________________________\n"
          ]
        }
      ]
    },
    {
      "cell_type": "code",
      "source": [
        "model.compile(optimizer='adam',\n",
        "              loss=tf.keras.losses.SparseCategoricalCrossentropy(True),\n",
        "              metrics=['accuracy'])\n"
      ],
      "metadata": {
        "id": "P2fPNIN7si5b"
      },
      "execution_count": null,
      "outputs": []
    },
    {
      "cell_type": "code",
      "source": [
        "model.fit(train,\n",
        "          epochs=3,\n",
        "          validation_data=validation)"
      ],
      "metadata": {
        "colab": {
          "base_uri": "https://localhost:8080/"
        },
        "id": "BSDjmfCLuz2P",
        "outputId": "c743d85b-2025-4e58-c301-38fae544c281"
      },
      "execution_count": null,
      "outputs": [
        {
          "output_type": "stream",
          "name": "stdout",
          "text": [
            "Epoch 1/3\n",
            "33/33 [==============================] - 95s 3s/step - loss: 1.5684 - accuracy: 0.4990 - val_loss: 0.5936 - val_accuracy: 0.8506\n",
            "Epoch 2/3\n",
            "33/33 [==============================] - 35s 1s/step - loss: 0.2879 - accuracy: 0.9205 - val_loss: 0.1699 - val_accuracy: 0.9425\n",
            "Epoch 3/3\n",
            "33/33 [==============================] - 34s 1s/step - loss: 0.0780 - accuracy: 0.9780 - val_loss: 0.0400 - val_accuracy: 0.9885\n"
          ]
        },
        {
          "output_type": "execute_result",
          "data": {
            "text/plain": [
              "<keras.src.callbacks.History at 0x7d9ad92ed9c0>"
            ]
          },
          "metadata": {},
          "execution_count": 8
        }
      ]
    },
    {
      "cell_type": "code",
      "source": [
        "from PIL import Image\n",
        "import numpy as np\n",
        "image_path = \"/content/drive/MyDrive/Hand gesture/thumb-20240718T143838Z-001/thumb/frame_09_05_0004.png\"\n",
        "image = Image.open(image_path).convert(\"L\")\n",
        "image = image.resize((128, 128))\n",
        "image_array = np.array(image)\n",
        "image_array = np.expand_dims(image_array, axis=0)\n",
        "image_array = image_array / 255.0\n",
        "image_array = np.expand_dims(image_array, axis=-1)\n",
        "import matplotlib.pyplot as plt\n",
        "plt.imshow(image_array[0, :, :, 0], cmap='gray')\n",
        "plt.axis('off')\n",
        "plt.show()\n"
      ],
      "metadata": {
        "colab": {
          "base_uri": "https://localhost:8080/",
          "height": 406
        },
        "id": "fj5gGlzG229f",
        "outputId": "d3451764-74a8-4083-eac2-c49de4f0df41"
      },
      "execution_count": null,
      "outputs": [
        {
          "output_type": "display_data",
          "data": {
            "text/plain": [
              "<Figure size 640x480 with 1 Axes>"
            ],
            "image/png": "[encoded data removed]"
          },
          "metadata": {}
        }
      ]
    },
    {
      "cell_type": "code",
      "source": [
        "predictions = model.predict(image_array)\n",
        "print(predictions)"
      ],
      "metadata": {
        "colab": {
          "base_uri": "https://localhost:8080/"
        },
        "id": "SLAgVYas4Ecm",
        "outputId": "0c790506-61a9-45d4-bce2-d86113101a1a"
      },
      "execution_count": null,
      "outputs": [
        {
          "output_type": "stream",
          "name": "stdout",
          "text": [
            "1/1 [==============================] - 0s 50ms/step\n",
            "[[-0.95073134 -2.7607265   0.26500976 -2.0062754   6.888238    0.14588355\n",
            "   4.1317673   0.1512514  -3.4076807  18.72596   ]]\n"
          ]
        }
      ]
    },
    {
      "cell_type": "code",
      "source": [
        "predicted_class_index = np.argmax(predictions, axis=1)[0]"
      ],
      "metadata": {
        "id": "jYx2yyGg4HGN"
      },
      "execution_count": null,
      "outputs": []
    },
    {
      "cell_type": "code",
      "source": [
        "class_names = ['c', 'down', 'fist','fist_moved','index','I','ok','palm','palm moved','thumb']\n",
        "predicted_class_name = class_names[predicted_class_index]"
      ],
      "metadata": {
        "id": "vUICJQH84dMJ"
      },
      "execution_count": null,
      "outputs": []
    },
    {
      "cell_type": "code",
      "source": [
        "predicted_class_name"
      ],
      "metadata": {
        "colab": {
          "base_uri": "https://localhost:8080/",
          "height": 36
        },
        "id": "mLBDkXTX5BvK",
        "outputId": "e4d0b8f4-95c1-4c6b-b9f8-5dd4c1b118cd"
      },
      "execution_count": null,
      "outputs": [
        {
          "output_type": "execute_result",
          "data": {
            "text/plain": [
              "'thumb'"
            ],
            "application/vnd.google.colaboratory.intrinsic+json": {
              "type": "string"
            }
          },
          "metadata": {},
          "execution_count": 27
        }
      ]
    }
  ]
}